{
 "cells": [
  {
   "cell_type": "code",
   "execution_count": 1,
   "metadata": {},
   "outputs": [
    {
     "name": "stdout",
     "output_type": "stream",
     "text": [
      "Alerta\n"
     ]
    }
   ],
   "source": [
    "vel=49\n",
    "condi =25\n",
    "if vel>condi:\n",
    "    print(\"Alerta\")\n",
    "else:\n",
    "    print(\"Todo bien\")"
   ]
  },
  {
   "cell_type": "code",
   "execution_count": 2,
   "metadata": {},
   "outputs": [
    {
     "name": "stdout",
     "output_type": "stream",
     "text": [
      "no hay nada\n"
     ]
    }
   ],
   "source": [
    "vel=19\n",
    "condi = 20\n",
    "if vel >= condi:\n",
    "    print(\"Hay un rayo en el cielo\")\n",
    "else:\n",
    "    print(\"no hay nada\")"
   ]
  },
  {
   "cell_type": "code",
   "execution_count": 7,
   "metadata": {},
   "outputs": [
    {
     "name": "stdout",
     "output_type": "stream",
     "text": [
      "Hay un rayo en el cielo\n"
     ]
    }
   ],
   "source": [
    "velasteroide=25\n",
    "tam=40\n",
    "if tam > 25 and velasteroide>25:\n",
    "    print(\"asteroide viene hacia la tierra PELIGRO\")\n",
    "elif velasteroide<25:\n",
    "    print(\"Todo bien\")\n",
    "elif tam >= condi:\n",
    "    print(\"Hay un rayo en el cielo\")\n",
    "else:\n",
    "    print(\"no hay nada\")"
   ]
  }
 ],
 "metadata": {
  "interpreter": {
   "hash": "3410afedb74081d81603511028deadddc25ba0f01c14e0cb891e2c2473f81884"
  },
  "kernelspec": {
   "display_name": "Python 3.8.10 64-bit",
   "language": "python",
   "name": "python3"
  },
  "language_info": {
   "codemirror_mode": {
    "name": "ipython",
    "version": 3
   },
   "file_extension": ".py",
   "mimetype": "text/x-python",
   "name": "python",
   "nbconvert_exporter": "python",
   "pygments_lexer": "ipython3",
   "version": "3.8.10"
  },
  "orig_nbformat": 4
 },
 "nbformat": 4,
 "nbformat_minor": 2
}
