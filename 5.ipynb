{
 "cells": [
  {
   "cell_type": "code",
   "execution_count": 5,
   "metadata": {},
   "outputs": [
    {
     "name": "stdout",
     "output_type": "stream",
     "text": [
      "628949330\n",
      "390577533.93\n"
     ]
    }
   ],
   "source": [
    "Tierra=149597870\n",
    "Jupiter=778547200\n",
    "km=Jupiter-Tierra\n",
    "print(km)\n",
    "print(km*0.621)"
   ]
  },
  {
   "cell_type": "code",
   "execution_count": 8,
   "metadata": {},
   "outputs": [
    {
     "name": "stdout",
     "output_type": "stream",
     "text": [
      "-774900141017\n",
      "481212987571.557\n"
     ]
    }
   ],
   "source": [
    "first = input('Introduzca la distancia del sol para el primer planeta en KM')\n",
    "second = input('Introduzca la distancia desde el sol para el segundo planeta en KM')\n",
    "first = int(first)\n",
    "second = int(second)\n",
    "km = second - first\n",
    "print(km)\n",
    "# Convertir de KM a Millas\n",
    "mi = km * 0.621\n",
    "print(abs(mi))"
   ]
  }
 ],
 "metadata": {
  "interpreter": {
   "hash": "3410afedb74081d81603511028deadddc25ba0f01c14e0cb891e2c2473f81884"
  },
  "kernelspec": {
   "display_name": "Python 3.8.10 64-bit",
   "language": "python",
   "name": "python3"
  },
  "language_info": {
   "codemirror_mode": {
    "name": "ipython",
    "version": 3
   },
   "file_extension": ".py",
   "mimetype": "text/x-python",
   "name": "python",
   "nbconvert_exporter": "python",
   "pygments_lexer": "ipython3",
   "version": "3.8.10"
  },
  "orig_nbformat": 4
 },
 "nbformat": 4,
 "nbformat_minor": 2
}
